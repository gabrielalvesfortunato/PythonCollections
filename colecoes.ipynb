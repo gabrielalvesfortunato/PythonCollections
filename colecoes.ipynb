{
 "metadata": {
  "language_info": {
   "codemirror_mode": {
    "name": "ipython",
    "version": 3
   },
   "file_extension": ".py",
   "mimetype": "text/x-python",
   "name": "python",
   "nbconvert_exporter": "python",
   "pygments_lexer": "ipython3",
   "version": "3.6.9"
  },
  "orig_nbformat": 2,
  "kernelspec": {
   "name": "python369jvsc74a57bd038ef98e3146d458bfeb16069a92cd4c246a7dbadaeee7f1f3b0cc7a3333998db",
   "display_name": "Python 3.6.9 64-bit ('rstudio': conda)"
  }
 },
 "nbformat": 4,
 "nbformat_minor": 2,
 "cells": [
  {
   "cell_type": "code",
   "execution_count": 39,
   "metadata": {},
   "outputs": [],
   "source": [
    "#### Aula de Listas e Polimorfismo ###"
   ]
  },
  {
   "cell_type": "code",
   "execution_count": 40,
   "metadata": {},
   "outputs": [],
   "source": [
    "# Criando uma classe do tipo conta para representar as contas\n",
    "from abc import ABCMeta, abstractmethod\n",
    "\n",
    "class Conta(metaclass=ABCMeta):\n",
    "\n",
    "    def __init__(self, codigo):\n",
    "        self._codigo = codigo\n",
    "        self._saldo  = 0\n",
    "\n",
    "    def __str__(self):\n",
    "        return f'Codigo: {self._codigo}\\n'\\\n",
    "               f'Saldo: {self._saldo}'\n",
    "\n",
    "    def deposita(self, valor_deposito):\n",
    "        self._saldo += valor_deposito\n",
    "\n",
    "    @abstractmethod\n",
    "    def passa_o_mes(self):\n",
    "        pass\n",
    "\n",
    "    def deposita_para_todas(contas):\n",
    "        for conta in contas:\n",
    "            conta.deposita(100)"
   ]
  },
  {
   "cell_type": "code",
   "execution_count": 41,
   "metadata": {},
   "outputs": [
    {
     "output_type": "error",
     "ename": "TypeError",
     "evalue": "Can't instantiate abstract class Conta with abstract methods passa_o_mes",
     "traceback": [
      "\u001b[1;31m---------------------------------------------------------------------------\u001b[0m",
      "\u001b[1;31mTypeError\u001b[0m                                 Traceback (most recent call last)",
      "\u001b[1;32m<ipython-input-41-6cd289605275>\u001b[0m in \u001b[0;36m<module>\u001b[1;34m\u001b[0m\n\u001b[0;32m      1\u001b[0m \u001b[1;31m## Classes abstratas nao podem ser instanciadas\u001b[0m\u001b[1;33m\u001b[0m\u001b[1;33m\u001b[0m\u001b[1;33m\u001b[0m\u001b[0m\n\u001b[1;32m----> 2\u001b[1;33m \u001b[0mminha_conta\u001b[0m \u001b[1;33m=\u001b[0m \u001b[0mConta\u001b[0m\u001b[1;33m(\u001b[0m\u001b[1;34m\"0001\"\u001b[0m\u001b[1;33m)\u001b[0m\u001b[1;33m\u001b[0m\u001b[1;33m\u001b[0m\u001b[0m\n\u001b[0m\u001b[0;32m      3\u001b[0m \u001b[0mprint\u001b[0m\u001b[1;33m(\u001b[0m\u001b[0mminha_conta\u001b[0m\u001b[1;33m)\u001b[0m\u001b[1;33m\u001b[0m\u001b[1;33m\u001b[0m\u001b[0m\n",
      "\u001b[1;31mTypeError\u001b[0m: Can't instantiate abstract class Conta with abstract methods passa_o_mes"
     ]
    }
   ],
   "source": [
    "## Classes abstratas nao podem ser instanciadas\n",
    "minha_conta = Conta(\"0001\")\n",
    "print(minha_conta)"
   ]
  },
  {
   "cell_type": "code",
   "execution_count": 42,
   "metadata": {},
   "outputs": [],
   "source": [
    "## Criando uma subclasse de Conta ContaCorrente\n",
    "\n",
    "class ContaCorrente(Conta):\n",
    "\n",
    "    def passa_o_mes(self):\n",
    "        self._saldo -= 2    \n"
   ]
  },
  {
   "cell_type": "code",
   "execution_count": 43,
   "metadata": {},
   "outputs": [],
   "source": [
    "## Criando uma subclasse de Conta ContaPoupança\n",
    "\n",
    "class ContaPoupança(Conta):\n",
    "\n",
    "    def passa_o_mes(self):\n",
    "        self._saldo *=  1.01\n",
    "        self._saldo -= 3\n"
   ]
  },
  {
   "cell_type": "code",
   "execution_count": 44,
   "metadata": {},
   "outputs": [],
   "source": [
    "### Criando uma subclasse Conta Inverstimento (sem o metodo abstrato implementado)\n",
    "\n",
    "class ContaInvestimento(Conta):\n",
    "    pass"
   ]
  },
  {
   "cell_type": "code",
   "execution_count": 45,
   "metadata": {},
   "outputs": [
    {
     "output_type": "error",
     "ename": "TypeError",
     "evalue": "Can't instantiate abstract class ContaInvestimento with abstract methods passa_o_mes",
     "traceback": [
      "\u001b[1;31m---------------------------------------------------------------------------\u001b[0m",
      "\u001b[1;31mTypeError\u001b[0m                                 Traceback (most recent call last)",
      "\u001b[1;32m<ipython-input-45-31cbea096520>\u001b[0m in \u001b[0;36m<module>\u001b[1;34m\u001b[0m\n\u001b[0;32m      1\u001b[0m \u001b[1;31m## Tentado instanciar a uma ContaInvestimento sem o metodo abstrato implementado)\u001b[0m\u001b[1;33m\u001b[0m\u001b[1;33m\u001b[0m\u001b[1;33m\u001b[0m\u001b[0m\n\u001b[1;32m----> 2\u001b[1;33m \u001b[0mconta_investimento\u001b[0m \u001b[1;33m=\u001b[0m \u001b[0mContaInvestimento\u001b[0m\u001b[1;33m(\u001b[0m\u001b[1;36m4231\u001b[0m\u001b[1;33m)\u001b[0m\u001b[1;33m\u001b[0m\u001b[1;33m\u001b[0m\u001b[0m\n\u001b[0m\u001b[0;32m      3\u001b[0m \u001b[1;31m## Nao funciona Pois as classes filhas sao obrigadas a implementarem o metodo abstrato da classe mae.\u001b[0m\u001b[1;33m\u001b[0m\u001b[1;33m\u001b[0m\u001b[1;33m\u001b[0m\u001b[0m\n",
      "\u001b[1;31mTypeError\u001b[0m: Can't instantiate abstract class ContaInvestimento with abstract methods passa_o_mes"
     ]
    }
   ],
   "source": [
    "## Tentado instanciar a uma ContaInvestimento sem o metodo abstrato implementado)\n",
    "conta_investimento = ContaInvestimento(4231)\n",
    "## Nao funciona Pois as classes filhas sao obrigadas a implementarem o metodo abstrato da classe mae."
   ]
  },
  {
   "cell_type": "code",
   "execution_count": 46,
   "metadata": {},
   "outputs": [
    {
     "output_type": "stream",
     "name": "stdout",
     "text": [
      "Codigo: 0001\nSaldo: 998\n"
     ]
    }
   ],
   "source": [
    "# Testanto as classes ( ContaCorrente )\n",
    "nova_conta = ContaCorrente(\"0001\")\n",
    "nova_conta.deposita(1000)\n",
    "nova_conta.passa_o_mes()\n",
    "print(nova_conta)"
   ]
  },
  {
   "cell_type": "code",
   "execution_count": 47,
   "metadata": {},
   "outputs": [
    {
     "output_type": "stream",
     "name": "stdout",
     "text": [
      "Codigo: 0002\nSaldo: 1007.0\n"
     ]
    }
   ],
   "source": [
    "# Testanto as classes ( ContaPoupança )\n",
    "nova_conta2 = ContaPoupança(\"0002\")\n",
    "nova_conta2.deposita(1000)\n",
    "nova_conta2.passa_o_mes()\n",
    "print(nova_conta2)"
   ]
  },
  {
   "cell_type": "code",
   "execution_count": 48,
   "metadata": {},
   "outputs": [
    {
     "output_type": "stream",
     "name": "stdout",
     "text": [
      "Dados Antes:\nCodigo: 0001\nSaldo: 998\nCodigo: 0002\nSaldo: 1007.0\n\nDados Depois:\nCodigo: 0001\nSaldo: 996\nCodigo: 0002\nSaldo: 1014.07\n"
     ]
    }
   ],
   "source": [
    "### Aplicando o polimorfismo\n",
    "lista_contas = []\n",
    "lista_contas.extend([nova_conta, nova_conta2])\n",
    "\n",
    "print(f'Dados Antes:')\n",
    "for conta in lista_contas:\n",
    "    print(f'{conta}')\n",
    "\n",
    "for conta in lista_contas:\n",
    "    conta.passa_o_mes() # Duck Typing\n",
    "\n",
    "print(f'\\nDados Depois:')\n",
    "for conta in lista_contas:\n",
    "    print(f'{conta}')"
   ]
  },
  {
   "cell_type": "code",
   "execution_count": null,
   "metadata": {},
   "outputs": [],
   "source": [
    "############################################ COMPARAÇÃO ENTRE OBJETOS ###############################################################"
   ]
  },
  {
   "cell_type": "code",
   "execution_count": 49,
   "metadata": {},
   "outputs": [],
   "source": [
    "class ContaSalario:\n",
    "\n",
    "    def __init__(self, codigo):\n",
    "        self._codigo = codigo\n",
    "        self._saldo  = 0\n",
    "    \n",
    "    def __str__(self):\n",
    "        return f'Codigo: {self._codigo}\\n'\\\n",
    "               f'Saldo: {self._saldo}\\n'\n",
    "\n",
    "    def __eq__(self, outro_objeto):\n",
    "        if type(outro_objeto) != ContaSalario:\n",
    "            return False\n",
    "            \n",
    "        return self._codigo == outro_objeto._codigo and self._saldo == outro_objeto._saldo  \n",
    "\n",
    "    def deposita(self, valor):\n",
    "        self._saldo += valor"
   ]
  },
  {
   "cell_type": "code",
   "execution_count": 50,
   "metadata": {},
   "outputs": [
    {
     "output_type": "stream",
     "name": "stdout",
     "text": [
      "Codigo: 9823\nSaldo: 0\n\n"
     ]
    }
   ],
   "source": [
    "# Criando um objeto\n",
    "nova_conta = ContaSalario(9823)\n",
    "print(nova_conta)"
   ]
  },
  {
   "cell_type": "code",
   "execution_count": 53,
   "metadata": {},
   "outputs": [
    {
     "output_type": "stream",
     "name": "stdout",
     "text": [
      "Codigo: 9823\nSaldo: 0\n"
     ]
    }
   ],
   "source": [
    "# Criando um novo objeto com os mesmos dados\n",
    "nova_conta2 = ContaPoupança(9823)\n",
    "print(nova_conta2)"
   ]
  },
  {
   "cell_type": "code",
   "execution_count": 54,
   "metadata": {},
   "outputs": [
    {
     "output_type": "execute_result",
     "data": {
      "text/plain": [
       "False"
      ]
     },
     "metadata": {},
     "execution_count": 54
    }
   ],
   "source": [
    "# Comparando os objetos criados ( para se realizar a comparação correta entre objetos e necessaria a implementação do metodo __eq__)\n",
    "# A comparação e feita com base nas condições definidas no metodo __eq__.\n",
    "nova_conta == nova_conta2"
   ]
  },
  {
   "cell_type": "code",
   "execution_count": 55,
   "metadata": {},
   "outputs": [],
   "source": [
    "################################ ENUMERATED, RANGE, DESCOMPACTAMENTO AUTOMÁTICO DE TUPLAS #######################################################"
   ]
  },
  {
   "cell_type": "code",
   "execution_count": 104,
   "metadata": {},
   "outputs": [
    {
     "output_type": "stream",
     "name": "stdout",
     "text": [
      "0 15\n1 87\n2 32\n3 65\n4 56\n5 32\n6 49\n7 37\n"
     ]
    }
   ],
   "source": [
    "## Acessando o valor e a posição de um dado em uma lista\n",
    "idades = [15, 87, 32, 65, 56, 32, 49, 37]\n",
    "\n",
    "# Utilizando o range() para acessar valor e a posição do dado \n",
    "for i in range(0, len(idades)):\n",
    "    print(i, idades[i])"
   ]
  },
  {
   "cell_type": "code",
   "execution_count": 102,
   "metadata": {},
   "outputs": [
    {
     "output_type": "stream",
     "name": "stdout",
     "text": [
      "(0, 'Janeiro')\n(1, 'Fevereiro')\n(2, 'Março')\n(3, 'Abril')\n(4, 'Maio')\n(5, 'Junho')\n(6, 'Julho')\n(7, 'Agosto')\n(8, 'Setembro')\n(9, 'Outubro')\n(10, 'Novembro')\n(11, 'Dezembro')\n"
     ]
    }
   ],
   "source": [
    "## O método de acesso acima funciona porém no python existe uma função built-in especifica para tratar de solução como a de cima\n",
    "## de forma mais limpa, simples e agil com menos código que a função enumerate(). O enumerate gera um iterable para ser visualizado \n",
    "## o conteudo é preciso uma conversão para lista.\n",
    "meses = [\"Janeiro\", \"Fevereiro\", \"Março\", \"Abril\", \"Maio\", \"Junho\", \"Julho\", \"Agosto\", \"Setembro\", \"Outubro\", \"Novembro\", \"Dezembro\"]\n",
    "meses = list(enumerate(meses))\n",
    "\n",
    "for valor in meses:\n",
    "    print(valor)"
   ]
  },
  {
   "cell_type": "code",
   "execution_count": 106,
   "metadata": {},
   "outputs": [
    {
     "output_type": "stream",
     "name": "stdout",
     "text": [
      "1 Janeiro\n2 Fevereiro\n3 Março\n4 Abril\n5 Maio\n6 Junho\n7 Julho\n8 Agosto\n9 Setembro\n10 Outubro\n11 Novembro\n12 Dezembro\n"
     ]
    }
   ],
   "source": [
    "# É possivel 'desempacotar' uma tupla (o enumerate gera uma tupla) como for preciso\n",
    "meses = [\"Janeiro\", \"Fevereiro\", \"Março\", \"Abril\", \"Maio\", \"Junho\", \"Julho\", \"Agosto\", \"Setembro\", \"Outubro\", \"Novembro\", \"Dezembro\"]\n",
    "meses = list(enumerate(meses))\n",
    "\n",
    "# É possivel separar os elementos do enumerate e trabalhar com eles separadamente se for preciso algum processamento.\n",
    "for indice, mes in meses: # unpacking da tupla\n",
    "    print(indice+1, mes)"
   ]
  },
  {
   "cell_type": "code",
   "execution_count": 110,
   "metadata": {},
   "outputs": [
    {
     "output_type": "stream",
     "name": "stdout",
     "text": [
      "Gabriel\nJoana\nJoaquim\n"
     ]
    }
   ],
   "source": [
    "# Também podemos obter apenas 1 ou alguns elementos especificos dentro do conjunto de dados\n",
    "usuarios = [\n",
    "    (\"Gabriel\", 24, 1996),\n",
    "    (\"Joana\", 51, 1969),\n",
    "    (\"Joaquim\", 34, 1987)\n",
    "]\n",
    "\n",
    "for nome, idade, nascimento in usuarios: # Mais aconselhável pois deixa o código mais legível \n",
    "    print(nome)\n",
    "\n",
    "#for nome, _, _ in usuarios: # Desempacotando os dados obtendo os nomes e ignorando o resto ( o '_' ignora o resto)\n",
    "    #print(nome)    "
   ]
  },
  {
   "cell_type": "code",
   "execution_count": 111,
   "metadata": {},
   "outputs": [],
   "source": [
    "#################################################### ORDENAÇÃO BÁSICA (NATURAL) ###########################################################"
   ]
  },
  {
   "cell_type": "code",
   "execution_count": 117,
   "metadata": {},
   "outputs": [
    {
     "output_type": "stream",
     "name": "stdout",
     "text": [
      "Ordem crescente: [10, 17, 21, 28, 43, 64, 75, 80, 89, 99]\nOrdem decrescente: [99, 89, 80, 75, 64, 43, 28, 21, 17, 10]\nOrdem inversa: [99, 17, 10, 80, 43, 75, 28, 64, 21, 89]\n"
     ]
    }
   ],
   "source": [
    "## Ordenando sequência numérica com a função sorted()\n",
    "numeros = [89, 21, 64, 28, 75, 43, 80, 10, 17, 99]\n",
    "\n",
    "# ordenando ( Ordem do menor para o maior (crescente) )\n",
    "numeros_ordem_crescente = sorted(numeros)\n",
    "# numeros.sort() -> Abordagem válida\n",
    "print(f'Ordem crescente: {numeros_ordem_crescente}')\n",
    "\n",
    "# ordenando ( Ordem do maior para o menor (decrescente) ) (sorted(iterable*, key=None, reverse=False))\n",
    "numeros_ordem_decrescente = sorted(numeros, reverse=True)\n",
    "# numeros.sort(reverse=True) -> Abordagem válida\n",
    "print(f'Ordem decrescente: {numeros_ordem_decrescente}')\n",
    "\n",
    "# Ordenando ( Inverte a ordem dos dados o 1º vira ultimo o ultimo vira 1º sucessivamente )\n",
    "numeros_ordem_inversa = list(reversed(numeros))\n",
    "# numeros.reversed() -> Abordagem válida\n",
    "print(f'Ordem inversa: {numeros_ordem_inversa}')"
   ]
  },
  {
   "cell_type": "code",
   "execution_count": 122,
   "metadata": {},
   "outputs": [
    {
     "output_type": "stream",
     "name": "stdout",
     "text": [
      "[('Gabriel', 'MG'), ('Emma', 'MG'), ('Zoe', 'MG')]\n[('João', 'SP'), ('Miguel', 'SP'), ('Joaquim', 'SP')]\n[('Fernanda', 'RJ'), ('Rafaella', 'RJ')]\n[('Gabrielle', 'ES'), ('Antônio', 'ES')]\n[('Rodrigo', 'AM'), ('Luiz', 'AM')]\n[('José', 'BA')]\n"
     ]
    }
   ],
   "source": [
    "#################################################### AGRUPAMENTO DE LISTAS  ##################################################\n",
    "users = [\n",
    "    (\"Gabriel\", \"MG\"),\n",
    "    (\"João\", \"SP\"),\n",
    "    (\"Fernanda\", \"RJ\"),\n",
    "    (\"Gabrielle\", \"ES\"),\n",
    "    (\"Maria\", \"MT\"),\n",
    "    (\"Alice\", \"AC\"),\n",
    "    (\"Rodrigo\", \"AM\"),\n",
    "    (\"Emma\", \"MG\"),\n",
    "    (\"Miguel\", \"SP\"),\n",
    "    (\"Rafaella\", \"RJ\"),\n",
    "    (\"Zoe\", \"MG\"),\n",
    "    (\"Joaquim\", \"SP\"),\n",
    "    (\"Luiz\", \"AM\"),\n",
    "    (\"Antônio\", \"ES\"),\n",
    "    (\"José\", \"BA\")\n",
    "]\n",
    "\n",
    "MG_users = []\n",
    "SP_users = []\n",
    "RJ_users = []\n",
    "ES_users = []\n",
    "AM_users = []\n",
    "BA_users = []\n",
    "\n",
    "for nome, estado in users:\n",
    "    if estado == \"MG\":\n",
    "        MG_users.append((nome, estado))\n",
    "    elif estado == \"SP\":\n",
    "        SP_users.append((nome, estado))  \n",
    "    elif estado == \"RJ\":\n",
    "        RJ_users.append((nome, estado)) \n",
    "    elif estado == \"ES\":\n",
    "        ES_users.append((nome, estado)) \n",
    "    elif estado == \"AM\":\n",
    "        AM_users.append((nome, estado)) \n",
    "    elif estado == \"BA\":\n",
    "        BA_users.append((nome, estado))         \n",
    "      \n",
    "\n",
    "print(\"{}\\n{}\\n{}\\n{}\\n{}\\n{}\".format(MG_users, SP_users, RJ_users, ES_users, AM_users, BA_users))\n"
   ]
  },
  {
   "cell_type": "code",
   "execution_count": 130,
   "metadata": {},
   "outputs": [
    {
     "output_type": "stream",
     "name": "stdout",
     "text": [
      "Porcentagem Usuarios MG: 20%\nPorcentagem Usuarios SP: 20%\nPorcentagem Usuarios RJ: 13%\nPorcentagem Usuarios ES: 13%\n"
     ]
    }
   ],
   "source": [
    "usuarios_totais = len(users)\n",
    "porcentagem_usuarios_MG = round((len(MG_users)/usuarios_totais)*100)\n",
    "porcentagem_usuarios_SP = round((len(SP_users)/usuarios_totais)*100)\n",
    "porcentagem_usuarios_RJ = round((len(RJ_users)/usuarios_totais)*100)\n",
    "porcentagem_usuarios_ES = round((len(ES_users)/usuarios_totais)*100)\n",
    "print(f'Porcentagem Usuarios MG: {porcentagem_usuarios_MG}%')\n",
    "print(f'Porcentagem Usuarios SP: {porcentagem_usuarios_SP}%')\n",
    "print(f'Porcentagem Usuarios RJ: {porcentagem_usuarios_RJ}%')\n",
    "print(f'Porcentagem Usuarios ES: {porcentagem_usuarios_ES}%')"
   ]
  },
  {
   "cell_type": "code",
   "execution_count": 131,
   "metadata": {},
   "outputs": [],
   "source": [
    "################################################# ORDENAÇÃO DE OBJETOS SEM ORDEM NATURAL ######################################################"
   ]
  },
  {
   "cell_type": "code",
   "execution_count": 163,
   "metadata": {},
   "outputs": [],
   "source": [
    "class ContaSalario:\n",
    "\n",
    "    def __init__(self, codigo):\n",
    "        self._codigo = codigo\n",
    "        self._saldo  = 0\n",
    "    \n",
    "    def __str__(self):\n",
    "        return f'Codigo: {self._codigo}\\n'\\\n",
    "               f'Saldo: {self._saldo}\\n'\n",
    "\n",
    "    def __eq__(self, outro_objeto):\n",
    "        if type(outro_objeto) != ContaSalario:\n",
    "            return False\n",
    "        return self._codigo == outro_objeto._codigo and self._saldo == outro_objeto._saldo  \n",
    "\n",
    "    def __lt__(self, outro_objeto):\n",
    "        if self._saldo != outro_objeto._saldo:\n",
    "            return self._saldo < outro_objeto._saldo\n",
    "        return self._codigo < outro_objeto._codigo    \n",
    "\n",
    "\n",
    "    def deposita(self, valor):\n",
    "        self._saldo += valor"
   ]
  },
  {
   "cell_type": "code",
   "execution_count": 164,
   "metadata": {},
   "outputs": [
    {
     "output_type": "stream",
     "name": "stdout",
     "text": [
      "Codigo: 98213\nSaldo: 300\n\nCodigo: 32130\nSaldo: 300\n\nCodigo: 45321\nSaldo: 300\n\n"
     ]
    }
   ],
   "source": [
    "conta_do_ga = ContaSalario(98213)\n",
    "conta_do_ga.deposita(300)\n",
    "\n",
    "conta_da_jo = ContaSalario(32130)\n",
    "conta_da_jo.deposita(300)\n",
    "\n",
    "conta_do_paulo = ContaSalario(45321)\n",
    "conta_do_paulo.deposita(300)\n",
    "\n",
    "lista_contas = [conta_do_ga, conta_da_jo, conta_do_paulo]\n",
    "\n",
    "for conta in lista_contas:\n",
    "    print(f'{conta}')"
   ]
  },
  {
   "cell_type": "code",
   "execution_count": 160,
   "metadata": {},
   "outputs": [
    {
     "output_type": "stream",
     "name": "stdout",
     "text": [
      "Codigo: 32130\nSaldo: 300\n\nCodigo: 98213\nSaldo: 2000\n\nCodigo: 45321\nSaldo: 2000\n\n"
     ]
    }
   ],
   "source": [
    "## Nao tem como comparar objetos como os tipos primitivos que ja tem uma ordenação natural se tentarmos dará erro\n",
    "## Para comparar objetos é preciso usar uma chave de comparação (que pode ser um metodo ou função)\n",
    "\n",
    "## Desta forma funciona porem está estruturalmente errado pois um atributo que era pra ser privado esta sendo acessado fora da classe\n",
    "def extrai_saldo(conta):\n",
    "    return conta._saldo\n",
    "\n",
    "# Ordenando atraves da chave saldo\n",
    "objetos_ordenados = sorted(lista_contas, key=extrai_saldo)\n",
    "\n",
    "for conta in objetos_ordenados:\n",
    "    print(conta)"
   ]
  },
  {
   "cell_type": "code",
   "execution_count": 161,
   "metadata": {},
   "outputs": [
    {
     "output_type": "stream",
     "name": "stdout",
     "text": [
      "Codigo: 32130\nSaldo: 300\n\nCodigo: 98213\nSaldo: 2000\n\nCodigo: 45321\nSaldo: 2000\n\n"
     ]
    }
   ],
   "source": [
    "## Para tentar resolver o problema do acesso ao atributo privado fora da classe poderiamos utilizar o \n",
    "## attrgetter que acessa um atributo de uma  classe\n",
    "from operator import attrgetter\n",
    "\n",
    "for conta in sorted(lista_contas, key=attrgetter(\"_saldo\")):\n",
    "    print(conta)\n",
    "\n",
    "## Porém existe uma forma melhor para fazermos isso que implementando um metodo que possibilita a comparação entra as classes"
   ]
  },
  {
   "cell_type": "code",
   "execution_count": 165,
   "metadata": {},
   "outputs": [
    {
     "output_type": "stream",
     "name": "stdout",
     "text": [
      "Codigo: 32130\nSaldo: 300\n\nCodigo: 45321\nSaldo: 300\n\nCodigo: 98213\nSaldo: 300\n\n"
     ]
    }
   ],
   "source": [
    "## Para se realizar uma comparação entre objetos para se ordenar objetos sem quebrar o encapsulamento da classe e necessario implementar\n",
    "## Um metodo de comparação de '<' no objeto. Esse metodo é o __lt__ (lesserThen). Com a classe implemetntada e possivel agora a ordenação\n",
    "for conta in sorted(lista_contas):\n",
    "    print(conta)"
   ]
  },
  {
   "cell_type": "code",
   "execution_count": 166,
   "metadata": {},
   "outputs": [],
   "source": [
    "############################################# ORDENAÇÃO TOTAL DE OBJETOS SEM ORDEM NATURAL ####################################################"
   ]
  },
  {
   "cell_type": "code",
   "execution_count": 168,
   "metadata": {},
   "outputs": [],
   "source": [
    "## Com a funcionalidade total_ordering da biblioteca functools e possivel ter todos os criterios de ordenação entre objetos\n",
    "## Porem e necessario que o metodo __eq__ o mais 1 (__gt__ ou __lt__) ja estejam implementadas na classe\n",
    "\n",
    "from functools import total_ordering \n",
    "\n",
    "@total_ordering\n",
    "class ContaSalario:\n",
    "\n",
    "    def __init__(self, codigo):\n",
    "        self._codigo = codigo\n",
    "        self._saldo  = 0\n",
    "    \n",
    "    def __str__(self):\n",
    "        return f'Codigo: {self._codigo}\\n'\\\n",
    "               f'Saldo: {self._saldo}\\n'\n",
    "\n",
    "    def __eq__(self, outro_objeto):\n",
    "        if type(outro_objeto) != ContaSalario:\n",
    "            return False\n",
    "        return self._codigo == outro_objeto._codigo and self._saldo == outro_objeto._saldo  \n",
    "\n",
    "    def __lt__(self, outro_objeto):\n",
    "        if self._saldo != outro_objeto._saldo:\n",
    "            return self._saldo < outro_objeto._saldo\n",
    "        return self._codigo < outro_objeto._codigo    \n",
    "\n",
    "    def deposita(self, valor):\n",
    "        self._saldo += valor"
   ]
  },
  {
   "cell_type": "code",
   "execution_count": 174,
   "metadata": {},
   "outputs": [
    {
     "output_type": "stream",
     "name": "stdout",
     "text": [
      "Codigo: 98213\nSaldo: 300\n\nCodigo: 32130\nSaldo: 300\n\nCodigo: 45321\nSaldo: 300\n\n"
     ]
    }
   ],
   "source": [
    "conta_do_ga = ContaSalario(98213)\n",
    "conta_do_ga.deposita(300)\n",
    "\n",
    "conta_da_jo = ContaSalario(32130)\n",
    "conta_da_jo.deposita(300)\n",
    "\n",
    "conta_do_paulo = ContaSalario(45321)\n",
    "conta_do_paulo.deposita(300)\n",
    "\n",
    "lista_contas = [conta_do_ga, conta_da_jo, conta_do_paulo]\n",
    "\n",
    "for conta in lista_contas:\n",
    "    print(f'{conta}')"
   ]
  },
  {
   "cell_type": "code",
   "execution_count": 172,
   "metadata": {},
   "outputs": [
    {
     "output_type": "stream",
     "name": "stdout",
     "text": [
      "False\nTrue\nTrue\nFalse\nTrue\n"
     ]
    }
   ],
   "source": [
    "## Comparação total entre objetos ( Com o total_ordering temos uma comparação rica entre objetos )\n",
    "print(conta_do_ga <= conta_da_jo)\n",
    "print(conta_do_ga >= conta_do_paulo)\n",
    "print(conta_do_ga == conta_do_ga)\n",
    "print(conta_da_jo == conta_do_paulo)\n",
    "print(conta_da_jo != conta_do_ga)"
   ]
  },
  {
   "cell_type": "code",
   "execution_count": 175,
   "metadata": {},
   "outputs": [],
   "source": [
    "#### THAT'S IT ###    "
   ]
  }
 ]
}